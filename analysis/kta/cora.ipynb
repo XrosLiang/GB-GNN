{
 "cells": [
  {
   "cell_type": "code",
   "execution_count": 1,
   "metadata": {},
   "outputs": [],
   "source": [
    "jobs = # list of lists of strings for job IDs."
   ]
  },
  {
   "cell_type": "code",
   "execution_count": 2,
   "metadata": {},
   "outputs": [],
   "source": [
    "RESULT_DIR = 'results/86/'"
   ]
  },
  {
   "cell_type": "code",
   "execution_count": 3,
   "metadata": {},
   "outputs": [],
   "source": [
    "import glob\n",
    "import numpy as np\n",
    "import pandas as pd\n",
    "import json\n",
    "%matplotlib inline\n",
    "from matplotlib import pyplot as plt"
   ]
  },
  {
   "cell_type": "code",
   "execution_count": 4,
   "metadata": {},
   "outputs": [],
   "source": [
    "dirs = [[glob.glob(f'results/{i}-*/[0-9]*')[0] for i in j] for j in jobs]"
   ]
  },
  {
   "cell_type": "code",
   "execution_count": 5,
   "metadata": {},
   "outputs": [],
   "source": [
    "accs = [[json.load(open(i + '/acc.json')) for i in d] for d in dirs]"
   ]
  },
  {
   "cell_type": "code",
   "execution_count": 6,
   "metadata": {},
   "outputs": [],
   "source": [
    "acc_test = np.array([[i['test'] for i in a] for a in accs])"
   ]
  },
  {
   "cell_type": "code",
   "execution_count": 7,
   "metadata": {},
   "outputs": [
    {
     "data": {
      "text/plain": [
       "array([0.8002, 0.8091, 0.7982, 0.7854, 0.7605])"
      ]
     },
     "execution_count": 7,
     "metadata": {},
     "output_type": "execute_result"
    }
   ],
   "source": [
    "acc_test.mean(axis=1)"
   ]
  },
  {
   "cell_type": "code",
   "execution_count": 8,
   "metadata": {},
   "outputs": [
    {
     "data": {
      "text/plain": [
       "array([0.00835225, 0.00874586, 0.01256821, 0.00905759, 0.02507688])"
      ]
     },
     "execution_count": 8,
     "metadata": {},
     "output_type": "execute_result"
    }
   ],
   "source": [
    "acc_test.std(axis=1)"
   ]
  },
  {
   "cell_type": "code",
   "execution_count": 9,
   "metadata": {},
   "outputs": [
    {
     "data": {
      "text/plain": [
       "array([[0.801, 0.802, 0.801, 0.795, 0.78 , 0.815, 0.806, 0.802, 0.799,\n",
       "        0.801],\n",
       "       [0.821, 0.804, 0.813, 0.819, 0.809, 0.794, 0.795, 0.808, 0.812,\n",
       "        0.816],\n",
       "       [0.785, 0.794, 0.805, 0.794, 0.804, 0.793, 0.812, 0.792, 0.824,\n",
       "        0.779],\n",
       "       [0.781, 0.793, 0.791, 0.793, 0.78 , 0.785, 0.771, 0.803, 0.781,\n",
       "        0.776],\n",
       "       [0.759, 0.738, 0.786, 0.707, 0.747, 0.779, 0.787, 0.782, 0.777,\n",
       "        0.743]])"
      ]
     },
     "execution_count": 9,
     "metadata": {},
     "output_type": "execute_result"
    }
   ],
   "source": [
    "acc_test"
   ]
  },
  {
   "cell_type": "code",
   "execution_count": null,
   "metadata": {},
   "outputs": [],
   "source": []
  }
 ],
 "metadata": {
  "kernelspec": {
   "display_name": "Python 3",
   "language": "python",
   "name": "python3"
  },
  "language_info": {
   "codemirror_mode": {
    "name": "ipython",
    "version": 3
   },
   "file_extension": ".py",
   "mimetype": "text/x-python",
   "name": "python",
   "nbconvert_exporter": "python",
   "pygments_lexer": "ipython3",
   "version": "3.7.5"
  }
 },
 "nbformat": 4,
 "nbformat_minor": 4
}
